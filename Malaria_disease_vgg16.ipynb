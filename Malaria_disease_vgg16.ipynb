{
  "nbformat": 4,
  "nbformat_minor": 0,
  "metadata": {
    "colab": {
      "name": "Malaria_disease_vgg16.ipynb",
      "provenance": []
    },
    "kernelspec": {
      "name": "python3",
      "display_name": "Python 3"
    },
    "accelerator": "GPU"
  },
  "cells": [
    {
      "cell_type": "code",
      "metadata": {
        "colab": {
          "base_uri": "https://localhost:8080/"
        },
        "id": "UTF6ZLkGzcYK",
        "outputId": "18116dad-d7de-4089-82f5-1faf97854437"
      },
      "source": [
        "!nvidia-smi"
      ],
      "execution_count": 1,
      "outputs": [
        {
          "output_type": "stream",
          "text": [
            "Sat Mar 13 04:18:19 2021       \n",
            "+-----------------------------------------------------------------------------+\n",
            "| NVIDIA-SMI 460.56       Driver Version: 460.32.03    CUDA Version: 11.2     |\n",
            "|-------------------------------+----------------------+----------------------+\n",
            "| GPU  Name        Persistence-M| Bus-Id        Disp.A | Volatile Uncorr. ECC |\n",
            "| Fan  Temp  Perf  Pwr:Usage/Cap|         Memory-Usage | GPU-Util  Compute M. |\n",
            "|                               |                      |               MIG M. |\n",
            "|===============================+======================+======================|\n",
            "|   0  Tesla T4            Off  | 00000000:00:04.0 Off |                    0 |\n",
            "| N/A   65C    P8    11W /  70W |      0MiB / 15109MiB |      0%      Default |\n",
            "|                               |                      |                  N/A |\n",
            "+-------------------------------+----------------------+----------------------+\n",
            "                                                                               \n",
            "+-----------------------------------------------------------------------------+\n",
            "| Processes:                                                                  |\n",
            "|  GPU   GI   CI        PID   Type   Process name                  GPU Memory |\n",
            "|        ID   ID                                                   Usage      |\n",
            "|=============================================================================|\n",
            "|  No running processes found                                                 |\n",
            "+-----------------------------------------------------------------------------+\n"
          ],
          "name": "stdout"
        }
      ]
    },
    {
      "cell_type": "code",
      "metadata": {
        "id": "bl6z3_ELtEuP"
      },
      "source": [
        "import numpy as np\r\n",
        "import matplotlib.pyplot as plt\r\n",
        "import tensorflow as tf\r\n",
        "from keras.layers import Dense,Flatten\r\n",
        "from keras.models import Model\r\n",
        "from keras.applications import VGG16\r\n",
        "from keras.preprocessing.image import ImageDataGenerator\r\n",
        "from glob import glob"
      ],
      "execution_count": 2,
      "outputs": []
    },
    {
      "cell_type": "code",
      "metadata": {
        "id": "z6u9ZNvhtnv0"
      },
      "source": [
        "image_size=[224,224]\r\n",
        "\r\n",
        "train_image_path='/content/drive/MyDrive/Dataset/Malaria dataset/Dataset/Train'\r\n",
        "test_image_path='/content/drive/MyDrive/Dataset/Malaria dataset/Dataset/Test'"
      ],
      "execution_count": 3,
      "outputs": []
    },
    {
      "cell_type": "code",
      "metadata": {
        "colab": {
          "base_uri": "https://localhost:8080/"
        },
        "id": "GTyt5u_HtzRn",
        "outputId": "f028fd10-1c5f-4971-c329-055800d41244"
      },
      "source": [
        "vgg=VGG16(include_top=False,input_shape=image_size+[3])"
      ],
      "execution_count": 4,
      "outputs": [
        {
          "output_type": "stream",
          "text": [
            "Downloading data from https://storage.googleapis.com/tensorflow/keras-applications/vgg16/vgg16_weights_tf_dim_ordering_tf_kernels_notop.h5\n",
            "58892288/58889256 [==============================] - 1s 0us/step\n"
          ],
          "name": "stdout"
        }
      ]
    },
    {
      "cell_type": "code",
      "metadata": {
        "id": "gqzGef6FuJm_"
      },
      "source": [
        "for layers in vgg.layers:\r\n",
        "  layers.trainable=False"
      ],
      "execution_count": 5,
      "outputs": []
    },
    {
      "cell_type": "code",
      "metadata": {
        "id": "YQmEsWLLu4bV"
      },
      "source": [
        "output_no=glob('/content/drive/MyDrive/Dataset/Malaria dataset/Dataset/Train/*')"
      ],
      "execution_count": 6,
      "outputs": []
    },
    {
      "cell_type": "code",
      "metadata": {
        "id": "3CEnHTK3uOOJ"
      },
      "source": [
        "x=Flatten()(vgg.output)\r\n",
        "prediction=Dense(len(output_no),activation='softmax')(x)"
      ],
      "execution_count": 7,
      "outputs": []
    },
    {
      "cell_type": "code",
      "metadata": {
        "colab": {
          "base_uri": "https://localhost:8080/"
        },
        "id": "Lt-343PMvcCY",
        "outputId": "b0ada7d6-40b1-4a2c-cdfd-10b25c14bb2e"
      },
      "source": [
        "model=Model(inputs=vgg.inputs,outputs=prediction)\r\n",
        "model.summary()"
      ],
      "execution_count": 8,
      "outputs": [
        {
          "output_type": "stream",
          "text": [
            "Model: \"model\"\n",
            "_________________________________________________________________\n",
            "Layer (type)                 Output Shape              Param #   \n",
            "=================================================================\n",
            "input_1 (InputLayer)         [(None, 224, 224, 3)]     0         \n",
            "_________________________________________________________________\n",
            "block1_conv1 (Conv2D)        (None, 224, 224, 64)      1792      \n",
            "_________________________________________________________________\n",
            "block1_conv2 (Conv2D)        (None, 224, 224, 64)      36928     \n",
            "_________________________________________________________________\n",
            "block1_pool (MaxPooling2D)   (None, 112, 112, 64)      0         \n",
            "_________________________________________________________________\n",
            "block2_conv1 (Conv2D)        (None, 112, 112, 128)     73856     \n",
            "_________________________________________________________________\n",
            "block2_conv2 (Conv2D)        (None, 112, 112, 128)     147584    \n",
            "_________________________________________________________________\n",
            "block2_pool (MaxPooling2D)   (None, 56, 56, 128)       0         \n",
            "_________________________________________________________________\n",
            "block3_conv1 (Conv2D)        (None, 56, 56, 256)       295168    \n",
            "_________________________________________________________________\n",
            "block3_conv2 (Conv2D)        (None, 56, 56, 256)       590080    \n",
            "_________________________________________________________________\n",
            "block3_conv3 (Conv2D)        (None, 56, 56, 256)       590080    \n",
            "_________________________________________________________________\n",
            "block3_pool (MaxPooling2D)   (None, 28, 28, 256)       0         \n",
            "_________________________________________________________________\n",
            "block4_conv1 (Conv2D)        (None, 28, 28, 512)       1180160   \n",
            "_________________________________________________________________\n",
            "block4_conv2 (Conv2D)        (None, 28, 28, 512)       2359808   \n",
            "_________________________________________________________________\n",
            "block4_conv3 (Conv2D)        (None, 28, 28, 512)       2359808   \n",
            "_________________________________________________________________\n",
            "block4_pool (MaxPooling2D)   (None, 14, 14, 512)       0         \n",
            "_________________________________________________________________\n",
            "block5_conv1 (Conv2D)        (None, 14, 14, 512)       2359808   \n",
            "_________________________________________________________________\n",
            "block5_conv2 (Conv2D)        (None, 14, 14, 512)       2359808   \n",
            "_________________________________________________________________\n",
            "block5_conv3 (Conv2D)        (None, 14, 14, 512)       2359808   \n",
            "_________________________________________________________________\n",
            "block5_pool (MaxPooling2D)   (None, 7, 7, 512)         0         \n",
            "_________________________________________________________________\n",
            "flatten (Flatten)            (None, 25088)             0         \n",
            "_________________________________________________________________\n",
            "dense (Dense)                (None, 2)                 50178     \n",
            "=================================================================\n",
            "Total params: 14,764,866\n",
            "Trainable params: 50,178\n",
            "Non-trainable params: 14,714,688\n",
            "_________________________________________________________________\n"
          ],
          "name": "stdout"
        }
      ]
    },
    {
      "cell_type": "code",
      "metadata": {
        "id": "ibGJ2niby_KR"
      },
      "source": [
        "model.compile(loss='binary_crossentropy',optimizer='adam',metrics='accuracy')"
      ],
      "execution_count": 9,
      "outputs": []
    },
    {
      "cell_type": "code",
      "metadata": {
        "id": "nm819JxSwzJ_"
      },
      "source": [
        "train_datagen=ImageDataGenerator(\r\n",
        "    rescale=1/255,\r\n",
        "    shear_range=0.2,\r\n",
        "    zoom_range=0.2,\r\n",
        "    horizontal_flip=True\r\n",
        ")\r\n",
        "\r\n",
        "test_datagen=ImageDataGenerator(\r\n",
        "    rescale=1/255\r\n",
        ")"
      ],
      "execution_count": 10,
      "outputs": []
    },
    {
      "cell_type": "code",
      "metadata": {
        "colab": {
          "base_uri": "https://localhost:8080/"
        },
        "id": "-ZxCZ4cKxpiL",
        "outputId": "c07a9f7a-33d9-4686-c6b3-6705a9380609"
      },
      "source": [
        "train_data=train_datagen.flow_from_directory(train_image_path,\r\n",
        "                                             target_size=image_size,\r\n",
        "                                             batch_size=32)\r\n",
        "\r\n",
        "test_data=test_datagen.flow_from_directory(test_image_path,\r\n",
        "                                           target_size=image_size,\r\n",
        "                                           batch_size=32)"
      ],
      "execution_count": 11,
      "outputs": [
        {
          "output_type": "stream",
          "text": [
            "Found 416 images belonging to 2 classes.\n",
            "Found 134 images belonging to 2 classes.\n"
          ],
          "name": "stdout"
        }
      ]
    },
    {
      "cell_type": "code",
      "metadata": {
        "colab": {
          "base_uri": "https://localhost:8080/"
        },
        "id": "4e6P_P6SyLVT",
        "outputId": "ebb5fbad-3dde-4cab-c1db-cfff05d121dc"
      },
      "source": [
        "fit=model.fit(train_data,\r\n",
        "              validation_data=test_data,\r\n",
        "              epochs=20,\r\n",
        "              steps_per_epoch=len(train_data),\r\n",
        "              validation_steps=len(test_data)\r\n",
        "              )"
      ],
      "execution_count": 14,
      "outputs": [
        {
          "output_type": "stream",
          "text": [
            "Epoch 1/20\n",
            "13/13 [==============================] - 161s 10s/step - loss: 0.8237 - accuracy: 0.5547 - val_loss: 0.6441 - val_accuracy: 0.6791\n",
            "Epoch 2/20\n",
            "13/13 [==============================] - 6s 447ms/step - loss: 0.5971 - accuracy: 0.6837 - val_loss: 0.5108 - val_accuracy: 0.7612\n",
            "Epoch 3/20\n",
            "13/13 [==============================] - 6s 446ms/step - loss: 0.4252 - accuracy: 0.8279 - val_loss: 0.5247 - val_accuracy: 0.7388\n",
            "Epoch 4/20\n",
            "13/13 [==============================] - 6s 445ms/step - loss: 0.3782 - accuracy: 0.8655 - val_loss: 0.4817 - val_accuracy: 0.6940\n",
            "Epoch 5/20\n",
            "13/13 [==============================] - 6s 448ms/step - loss: 0.3765 - accuracy: 0.8238 - val_loss: 0.3919 - val_accuracy: 0.8358\n",
            "Epoch 6/20\n",
            "13/13 [==============================] - 6s 444ms/step - loss: 0.3000 - accuracy: 0.9160 - val_loss: 0.3746 - val_accuracy: 0.8657\n",
            "Epoch 7/20\n",
            "13/13 [==============================] - 6s 442ms/step - loss: 0.2617 - accuracy: 0.9223 - val_loss: 0.3968 - val_accuracy: 0.8507\n",
            "Epoch 8/20\n",
            "13/13 [==============================] - 6s 443ms/step - loss: 0.2554 - accuracy: 0.9258 - val_loss: 0.3623 - val_accuracy: 0.8731\n",
            "Epoch 9/20\n",
            "13/13 [==============================] - 6s 445ms/step - loss: 0.2420 - accuracy: 0.9233 - val_loss: 0.3024 - val_accuracy: 0.9030\n",
            "Epoch 10/20\n",
            "13/13 [==============================] - 6s 442ms/step - loss: 0.2311 - accuracy: 0.9311 - val_loss: 0.3445 - val_accuracy: 0.8582\n",
            "Epoch 11/20\n",
            "13/13 [==============================] - 6s 443ms/step - loss: 0.2349 - accuracy: 0.9237 - val_loss: 0.3881 - val_accuracy: 0.8284\n",
            "Epoch 12/20\n",
            "13/13 [==============================] - 6s 446ms/step - loss: 0.2144 - accuracy: 0.9362 - val_loss: 0.2688 - val_accuracy: 0.9179\n",
            "Epoch 13/20\n",
            "13/13 [==============================] - 6s 441ms/step - loss: 0.2099 - accuracy: 0.9424 - val_loss: 0.2588 - val_accuracy: 0.9328\n",
            "Epoch 14/20\n",
            "13/13 [==============================] - 6s 437ms/step - loss: 0.2015 - accuracy: 0.9394 - val_loss: 0.2697 - val_accuracy: 0.9104\n",
            "Epoch 15/20\n",
            "13/13 [==============================] - 6s 457ms/step - loss: 0.1780 - accuracy: 0.9504 - val_loss: 0.3628 - val_accuracy: 0.8358\n",
            "Epoch 16/20\n",
            "13/13 [==============================] - 6s 455ms/step - loss: 0.2153 - accuracy: 0.9287 - val_loss: 0.3018 - val_accuracy: 0.8657\n",
            "Epoch 17/20\n",
            "13/13 [==============================] - 6s 454ms/step - loss: 0.1750 - accuracy: 0.9612 - val_loss: 0.2511 - val_accuracy: 0.9104\n",
            "Epoch 18/20\n",
            "13/13 [==============================] - 6s 443ms/step - loss: 0.1671 - accuracy: 0.9596 - val_loss: 0.2193 - val_accuracy: 0.9478\n",
            "Epoch 19/20\n",
            "13/13 [==============================] - 6s 439ms/step - loss: 0.1447 - accuracy: 0.9623 - val_loss: 0.2394 - val_accuracy: 0.9254\n",
            "Epoch 20/20\n",
            "13/13 [==============================] - 6s 441ms/step - loss: 0.1436 - accuracy: 0.9507 - val_loss: 0.2357 - val_accuracy: 0.9104\n"
          ],
          "name": "stdout"
        }
      ]
    },
    {
      "cell_type": "code",
      "metadata": {
        "colab": {
          "base_uri": "https://localhost:8080/"
        },
        "id": "0eWTIYVny8Qv",
        "outputId": "19cf5032-34e6-4a36-db15-c0a3ff1b8888"
      },
      "source": [
        "fit.history.keys()"
      ],
      "execution_count": 18,
      "outputs": [
        {
          "output_type": "execute_result",
          "data": {
            "text/plain": [
              "dict_keys(['loss', 'accuracy', 'val_loss', 'val_accuracy'])"
            ]
          },
          "metadata": {
            "tags": []
          },
          "execution_count": 18
        }
      ]
    },
    {
      "cell_type": "code",
      "metadata": {
        "colab": {
          "base_uri": "https://localhost:8080/",
          "height": 312
        },
        "id": "gMubqy6p0-Wr",
        "outputId": "cebebbcf-db73-4f2f-d509-7e9df329b50e"
      },
      "source": [
        "plt.plot(fit.history['accuracy'])\r\n",
        "plt.plot(fit.history['val_accuracy'])\r\n",
        "plt.xlabel('epochs')\r\n",
        "plt.ylabel('accuracy')\r\n",
        "plt.title('Accuracy')\r\n",
        "plt.legend(labels=['accuracy','val_accuracy'],loc='lower right')"
      ],
      "execution_count": 29,
      "outputs": [
        {
          "output_type": "execute_result",
          "data": {
            "text/plain": [
              "<matplotlib.legend.Legend at 0x7ffa042a1650>"
            ]
          },
          "metadata": {
            "tags": []
          },
          "execution_count": 29
        },
        {
          "output_type": "display_data",
          "data": {
            "image/png": "[encoded data removed]",
            "text/plain": [
              "<Figure size 432x288 with 1 Axes>"
            ]
          },
          "metadata": {
            "tags": [],
            "needs_background": "light"
          }
        }
      ]
    },
    {
      "cell_type": "code",
      "metadata": {
        "colab": {
          "base_uri": "https://localhost:8080/",
          "height": 312
        },
        "id": "QkQ4Ad1E4UiM",
        "outputId": "0db76b53-1c2e-4389-faeb-380c474e2c6a"
      },
      "source": [
        "plt.plot(fit.history['loss'])\r\n",
        "plt.plot(fit.history['val_loss'])\r\n",
        "plt.xlabel('epochs')\r\n",
        "plt.ylabel('accuracy')\r\n",
        "plt.title('Accuracy')\r\n",
        "plt.legend(labels=['loss','val_loss'],loc='upper right')"
      ],
      "execution_count": 31,
      "outputs": [
        {
          "output_type": "execute_result",
          "data": {
            "text/plain": [
              "<matplotlib.legend.Legend at 0x7ffa0454fb10>"
            ]
          },
          "metadata": {
            "tags": []
          },
          "execution_count": 31
        },
        {
          "output_type": "display_data",
          "data": {
            "image/png": "[encoded data removed]",
            "text/plain": [
              "<Figure size 432x288 with 1 Axes>"
            ]
          },
          "metadata": {
            "tags": [],
            "needs_background": "light"
          }
        }
      ]
    }
  ]
}